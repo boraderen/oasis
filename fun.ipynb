{
 "cells": [
  {
   "cell_type": "code",
   "id": "initial_id",
   "metadata": {},
   "source": [
    "import pm4py\n",
    "import pandas"
   ],
   "outputs": [],
   "execution_count": null
  },
  {
   "cell_type": "markdown",
   "id": "5d2eea9b-f33f-49a3-a0a2-0be96343d93d",
   "metadata": {},
   "source": [
    "1) Case-centric PM"
   ]
  },
  {
   "metadata": {},
   "cell_type": "code",
   "source": [
    "log = pm4py.read_xes('logs/event-log.xes')\n",
    "log"
   ],
   "id": "6880ee538874b734",
   "outputs": [],
   "execution_count": null
  },
  {
   "metadata": {},
   "cell_type": "markdown",
   "source": "1a) DFGs",
   "id": "d5ae3e52d4c68de4"
  },
  {
   "metadata": {},
   "cell_type": "code",
   "source": [
    "dfg, start_activities, end_activities = pm4py.discover_dfg(log)\n",
    "pm4py.view_dfg(dfg, start_activities, end_activities)\n",
    "#print(start_activities)\n",
    "#print(dfg)\n",
    "#print(end_activities)"
   ],
   "id": "3a4f1e130fd02b50",
   "outputs": [],
   "execution_count": null
  },
  {
   "metadata": {},
   "cell_type": "code",
   "source": [
    "filtered_dfg, filtered_start, filtered_end = pm4py.filter_dfg_activities_percentage(\n",
    "    dfg, start_activities, end_activities, percentage=0.2\n",
    ")\n",
    "pm4py.view_dfg(filtered_dfg, filtered_start, filtered_end)"
   ],
   "id": "2c281e271fd4bb0f",
   "outputs": [],
   "execution_count": null
  },
  {
   "cell_type": "code",
   "id": "c40bbfe8-a1ff-4919-8151-d233fcfd1f9c",
   "metadata": {},
   "source": [
    "filtered_dfg, filtered_start, filtered_end = pm4py.filter_dfg_paths_percentage(\n",
    "    dfg, start_activities, end_activities, percentage=0.2\n",
    ")\n",
    "pm4py.view_dfg(filtered_dfg, filtered_start, filtered_end)"
   ],
   "outputs": [],
   "execution_count": null
  },
  {
   "cell_type": "code",
   "id": "ad5bbae2-e5ee-48ea-ac51-7df7d9b61c2b",
   "metadata": {},
   "source": [
    "dfg, start_activities, end_activities = pm4py.discover_performance_dfg(log)\n",
    "pm4py.view_performance_dfg(dfg, start_activities, end_activities)"
   ],
   "outputs": [],
   "execution_count": null
  },
  {
   "cell_type": "markdown",
   "id": "becb56bb-6aad-436f-905f-1242227fe88c",
   "metadata": {},
   "source": [
    "1b) Petri nets"
   ]
  },
  {
   "cell_type": "code",
   "id": "660c03ee-850d-4b9a-a3bd-110be02e121f",
   "metadata": {},
   "source": [
    "net, im, fm = pm4py.discover_petri_net_alpha(log)\n",
    "pm4py.view_petri_net(net, im, fm)"
   ],
   "outputs": [],
   "execution_count": null
  },
  {
   "metadata": {},
   "cell_type": "code",
   "source": [
    "net, im, fm = pm4py.discover_petri_net_ilp(log, alpha=0.5)\n",
    "pm4py.view_petri_net(net, im, fm)"
   ],
   "id": "83cab49a7397e4d0",
   "outputs": [],
   "execution_count": null
  },
  {
   "metadata": {},
   "cell_type": "code",
   "source": [
    "net, im, fm = pm4py.discover_petri_net_heuristics(log, dependency_threshold=0.9, and_threshold=0.9, loop_two_threshold=0.9)\n",
    "pm4py.view_petri_net(net, im, fm)"
   ],
   "id": "d39cdb7060f46a5",
   "outputs": [],
   "execution_count": null
  },
  {
   "cell_type": "code",
   "id": "890234f3-9d2e-47d0-97d7-0007243d4239",
   "metadata": {},
   "source": [
    "net, im, fm = pm4py.discover_petri_net_inductive(log, noise_threshold=0)\n",
    "pm4py.view_petri_net(net, im, fm)\n",
    "print(len(net.places))\n",
    "print(len(net.transitions))"
   ],
   "outputs": [],
   "execution_count": null
  },
  {
   "cell_type": "markdown",
   "id": "7fa5c72e-fb89-402a-a236-9810d9ca4a40",
   "metadata": {},
   "source": [
    "1c) Conformance"
   ]
  },
  {
   "cell_type": "code",
   "id": "c6e81f7f-34cf-489e-8644-68df1a455032",
   "metadata": {},
   "source": [
    "diag = pm4py.conformance_diagnostics_token_based_replay(log, net, im, fm)\n",
    "diag"
   ],
   "outputs": [],
   "execution_count": null
  },
  {
   "cell_type": "code",
   "id": "285f420a-d4bc-4690-bcaa-789a016658b5",
   "metadata": {},
   "source": [
    "diag = pm4py.conformance_diagnostics_alignments(log, net, im, fm)\n",
    "diag"
   ],
   "outputs": [],
   "execution_count": null
  },
  {
   "cell_type": "code",
   "id": "7bb8862d-7c66-4f28-99dc-d4b83073674f",
   "metadata": {},
   "source": [
    "tbr = pm4py.fitness_token_based_replay(log, net, im, fm)\n",
    "tbr"
   ],
   "outputs": [],
   "execution_count": null
  },
  {
   "cell_type": "code",
   "id": "15184053-d49d-456d-bdb8-aa70b50b41c8",
   "metadata": {},
   "source": [
    "align = pm4py.fitness_alignments(log, net, im, fm)\n",
    "align['log_fitness']"
   ],
   "outputs": [],
   "execution_count": null
  },
  {
   "cell_type": "code",
   "id": "55ac928d-6079-401a-a749-3036b06b0431",
   "metadata": {},
   "source": [
    "tbr = pm4py.precision_token_based_replay(log, net, im, fm)\n",
    "tbr"
   ],
   "outputs": [],
   "execution_count": null
  },
  {
   "metadata": {},
   "cell_type": "code",
   "source": [
    "align = pm4py.precision_alignments(log, net, im, fm)\n",
    "align"
   ],
   "id": "b33620df30e91f66",
   "outputs": [],
   "execution_count": null
  },
  {
   "cell_type": "markdown",
   "id": "a17ad47a-a2d1-4c5c-9fb1-80e6c7596cf2",
   "metadata": {},
   "source": [
    "Object-centric PM"
   ]
  },
  {
   "metadata": {},
   "cell_type": "code",
   "source": [
    "ocel = pm4py.read_ocel(\"logs/example_log.jsonocel\")\n",
    "ocel"
   ],
   "id": "901a7e18d9948fd4",
   "outputs": [],
   "execution_count": null
  },
  {
   "metadata": {},
   "cell_type": "code",
   "source": [
    "ocel = pm4py.read_ocel(\"logs/example_log.jsonocel\")\n",
    "model = pm4py.discover_ocdfg(ocel)\n",
    "pm4py.view_ocdfg(model)"
   ],
   "id": "7eb9389690130660",
   "outputs": [],
   "execution_count": null
  },
  {
   "metadata": {},
   "cell_type": "code",
   "source": [
    "ocel = pm4py.read_ocel(\"logs/example_log.jsonocel\")\n",
    "model = pm4py.discover_oc_petri_net(ocel)\n",
    "pm4py.view_ocpn(model)"
   ],
   "id": "e27d7b611935d5a3",
   "outputs": [],
   "execution_count": null
  },
  {
   "cell_type": "code",
   "id": "87ae6ad6-b929-49a4-af25-54b6dc3d7d57",
   "metadata": {},
   "source": [],
   "outputs": [],
   "execution_count": null
  }
 ],
 "metadata": {
  "kernelspec": {
   "display_name": "Python [conda env:base] *",
   "language": "python",
   "name": "conda-base-py"
  },
  "language_info": {
   "codemirror_mode": {
    "name": "ipython",
    "version": 3
   },
   "file_extension": ".py",
   "mimetype": "text/x-python",
   "name": "python",
   "nbconvert_exporter": "python",
   "pygments_lexer": "ipython3",
   "version": "3.12.7"
  }
 },
 "nbformat": 4,
 "nbformat_minor": 5
}
